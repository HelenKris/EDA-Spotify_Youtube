{
  "cells": [
    {
      "cell_type": "markdown",
      "metadata": {
        "collapsed": false,
        "id": "LIJYRrSOBztL"
      },
      "source": [
        "## Практическое домашнее задание на проверку знаний по модулю 1.\n",
        "\n",
        "\n",
        "##### Тема тестирования - базовый эксплоративный анализ и аналитическое мышление. Вам будет предоставлен датасет и 25 вопросов касаемо данного датасета. Ваша задача - подумать как найти ответы на поставленные вопросы ниже. За каждый правильно оформленный и предоставленный ответ начисляется *4 балла*.\n",
        "\n",
        "#### Ответ на решение присылать ссылкой на ваш гитхаб репозиторий на почту maratmovlamov2017@gmail.com\n",
        "\n",
        "#### Сроки выполнения практического домашнего задания - ровно 7 календарных дней (168 часов) с момента публикации в группе. Прошу приступать к решению задач порционно. Прошу повторить дополнительные материалы, предоставленные в качестве самостоятельного изучения в конце презентаций, они вам понадобятся.\n",
        "\n",
        "\n",
        "\n",
        "#### Критерии оценки присланного решения:\n",
        "\n",
        "* Правильность полученного ответа - на каждый поставленный вопрос есть один и только один правильный ответ. В случае неправильного ответа на поставленный вопрос, предоставленный ответ на него считается проваленным, даже если код написан правильно и красиво. Общее количество баллов, которые можно получить ответив на все вопросы верно - 25 * 4 = 100 баллов, которые шкалируются к 10-ти бальной шкале.\n",
        "\n",
        "___\n",
        "\n",
        "* Аккуратность, правильность и читаемость кода - старайтесь писать код без повторного использования методов и ненужных переменных (помните про принцип DRY - don't repeat yourself). Плюсом будет, если ваш код будет упакован в лаконичную и красиво написанную функцию. Если вся работа выполненна аккуратно, без спагетти кода, к общему результату работы начисляется 1 балл.\n",
        "\n",
        "---\n",
        "\n",
        "* На предоставленные вопросы, дописывается комментарий для проверки вашего мышления и поиска ответа в виде Markdown комментария. В случае если комментарий на поставленный вопрос не предоставлен снимается 0.1 балл за каждый такой вопрос. То есть общий штраф за отсутсвие комментариев по всем вопросам 25 * -0.1 =  -2.5 балла.\n",
        "\n",
        "\n",
        "#### Удачи и да прибудет с Вами сила :)\n",
        "\n"
      ]
    },
    {
      "cell_type": "code",
      "execution_count": 1,
      "metadata": {
        "ExecuteTime": {
          "end_time": "2023-05-22T09:51:30.639118200Z",
          "start_time": "2023-05-22T09:51:30.360510500Z"
        },
        "id": "78YGPXDwBztR"
      },
      "outputs": [],
      "source": [
        "import pandas as pd\n",
        "import numpy as np"
      ]
    },
    {
      "cell_type": "code",
      "execution_count": 2,
      "metadata": {
        "id": "SRuw40LdJldp"
      },
      "outputs": [],
      "source": [
        "df = pd.read_csv(\"./dataset/Spotify_Youtube.csv\")"
      ]
    },
    {
      "cell_type": "markdown",
      "metadata": {
        "collapsed": false,
        "id": "-b0_Adm3BztU"
      },
      "source": [
        "### Структура датасета:\n",
        "\n",
        "----\n",
        "\n",
        "26 признаков, описание которых следует ниже:\n",
        "\n",
        "\n",
        "\n",
        "- **Track**: name of the song, as visible on the Spotify platform.\n",
        "- **Artist**: name of the artist.\n",
        "- **Url_spotify**: the Url of the artist.\n",
        "- **Album**: the album in wich the song is contained on Spotify.\n",
        "- **Album_type**: indicates if the song is relesead on Spotify as a single or contained in an album.\n",
        "- **Uri**: a spotify link used to find the song through the API.\n",
        "- **Danceability**: describes how suitable a track is for dancing based on a combination of musical elements including tempo, rhythm stability, beat strength, and overall regularity. A value of 0.0 is least danceable and 1.0 is most danceable.\n",
        "- **Energy:** is a measure from 0.0 to 1.0 and represents a perceptual measure of intensity and activity. Typically, energetic tracks feel fast, loud, and noisy. For example, death metal has high energy, while a Bach prelude scores low on the scale. Perceptual features contributing to this attribute include dynamic range, perceived loudness, timbre, onset rate, and general entropy.\n",
        "- **Key**: the key the track is in. Integers map to pitches using standard Pitch Class notation. E.g. 0 = C, 1 = C♯/D♭, 2 = D, and so on. If no key was detected, the value is -1.\n",
        "- **Loudness**: the overall loudness of a track in decibels (dB). Loudness values are averaged across the entire track and are useful for comparing relative loudness of tracks. Loudness is the quality of a sound that is the primary psychological correlate of physical strength (amplitude). Values typically range between -60 and 0 db.\n",
        "- **Speechiness**: detects the presence of spoken words in a track. The more exclusively speech-like the recording (e.g. talk show, audio book, poetry), the closer to 1.0 the attribute value. Values above 0.66 describe tracks that are probably made entirely of spoken words. Values between 0.33 and 0.66 describe tracks that may contain both music and speech, either in sections or layered, including such cases as rap music. Values below 0.33 most likely represent music and other non-speech-like tracks.\n",
        "- **Acousticness**: a confidence measure from 0.0 to 1.0 of whether the track is acoustic. 1.0 represents high confidence the track is acoustic.\n",
        "- **Instrumentalness**: predicts whether a track contains no vocals. \"Ooh\" and \"aah\" sounds are treated as instrumental in this context. Rap or spoken word tracks are clearly \"vocal\". The closer the instrumentalness value is to 1.0, the greater likelihood the track contains no vocal content. Values above 0.5 are intended to represent instrumental tracks, but confidence is higher as the value approaches 1.0.\n",
        "- **Liveness**: detects the presence of an audience in the recording. Higher liveness values represent an increased probability that the track was performed live. A value above 0.8 provides strong likelihood that the track is live.\n",
        "- **Valence**: a measure from 0.0 to 1.0 describing the musical positiveness conveyed by a track. Tracks with high valence sound more positive (e.g. happy, cheerful, euphoric), while tracks with low valence sound more negative (e.g. sad, depressed, angry).\n",
        "- **Tempo**: the overall estimated tempo of a track in beats per minute (BPM). In musical terminology, tempo is the speed or pace of a given piece and derives directly from the average beat duration.\n",
        "- **Duration_ms**: the duration of the track in milliseconds.\n",
        "- **Stream**: number of streams of the song on Spotify.\n",
        "- **Url_youtube**: url of the video linked to the song on Youtube, if it have any.\n",
        "- **Title**: title of the videoclip on youtube.\n",
        "- **Channel**: name of the channel that have published the video.\n",
        "- **Views**: number of views.\n",
        "- **Likes**: number of likes.\n",
        "- **Comments**: number of comments.\n",
        "- **Description**: description of the video on Youtube.\n",
        "- **Licensed**: Indicates whether the video represents licensed content, which means that the content was uploaded to a channel linked to a YouTube content partner and then claimed by that partner. official_video: boolean value that indicates if the video found is the official video of the song."
      ]
    },
    {
      "cell_type": "markdown",
      "metadata": {
        "collapsed": false,
        "id": "W5gpgTuNBztX"
      },
      "source": [
        "### Вопросы:"
      ]
    },
    {
      "cell_type": "markdown",
      "metadata": {
        "collapsed": false,
        "id": "-EIDVSOoBztX"
      },
      "source": [
        "#### 1. Какая песня является наиболее транслируемой в датасете (признак Stream)?"
      ]
    },
    {
      "cell_type": "code",
      "execution_count": 3,
      "metadata": {
        "colab": {
          "base_uri": "https://localhost:8080/",
          "height": 36
        },
        "id": "IMNqd9pFBztY",
        "outputId": "3bc0be99-0e2d-4a61-f787-f27b38272b9b"
      },
      "outputs": [
        {
          "data": {
            "application/vnd.google.colaboratory.intrinsic+json": {
              "type": "string"
            },
            "text/plain": [
              "'Blinding Lights'"
            ]
          },
          "execution_count": 3,
          "metadata": {},
          "output_type": "execute_result"
        }
      ],
      "source": [
        "#Находим индекс максимального значения в колонке Stream и обращаемся по индексу к значению в кол. Track'\n",
        "df.iloc[df['Stream'].idxmax()]['Track']"
      ]
    },
    {
      "cell_type": "markdown",
      "metadata": {
        "collapsed": false,
        "id": "yqpxvaxwBztY"
      },
      "source": [
        "#### 2. У какого исполнителя больше всего просмотров на YouTube?"
      ]
    },
    {
      "cell_type": "code",
      "execution_count": 4,
      "metadata": {
        "colab": {
          "base_uri": "https://localhost:8080/"
        },
        "id": "Hna2XvvjBztZ",
        "outputId": "75275f7f-4b7f-469a-aeb4-80230faa97a8"
      },
      "outputs": [
        {
          "name": "stdout",
          "output_type": "stream",
          "text": [
            "Luis Fonsi\n"
          ]
        }
      ],
      "source": [
        "#Находим индекс максимального значения в колонке Views и обращаемся по индексу к значению в кол. Artist'\n",
        "print(df.loc[df['Views'].idxmax()]['Artist'])"
      ]
    },
    {
      "cell_type": "markdown",
      "metadata": {
        "collapsed": false,
        "id": "w24vb7A_BztZ"
      },
      "source": [
        "#### 3. Какова средняя продолжительность всех песен в минутах?"
      ]
    },
    {
      "cell_type": "code",
      "execution_count": 7,
      "metadata": {
        "colab": {
          "base_uri": "https://localhost:8080/"
        },
        "id": "lPIg1So3Bzta",
        "outputId": "b4f0f652-0332-4d81-e283-5c42b0f45d13"
      },
      "outputs": [
        {
          "data": {
            "text/plain": [
              "3.75"
            ]
          },
          "execution_count": 7,
          "metadata": {},
          "output_type": "execute_result"
        }
      ],
      "source": [
        "round(df['Duration_ms'].mean() / 60000, 2)"
      ]
    },
    {
      "cell_type": "markdown",
      "metadata": {
        "collapsed": false,
        "id": "aoixSNK5Bzta"
      },
      "source": [
        "#### 4. Какая нота (Key) чаще всего используется в песнях?"
      ]
    },
    {
      "cell_type": "code",
      "execution_count": 9,
      "metadata": {
        "colab": {
          "base_uri": "https://localhost:8080/"
        },
        "id": "7vAc4PwSBzta",
        "outputId": "ef1be5bb-b6e5-4438-ba36-f0cd2ec74938"
      },
      "outputs": [
        {
          "name": "stdout",
          "output_type": "stream",
          "text": [
            "0.0\n"
          ]
        }
      ],
      "source": [
        "#Воспользуемся функцией нахождения моды\n",
        "print(df['Key'].mode()[0])"
      ]
    },
    {
      "cell_type": "markdown",
      "metadata": {
        "collapsed": false,
        "id": "5W4zFXqJBztb"
      },
      "source": [
        "#### 5. Какая самая популярная песня на YouTube?"
      ]
    },
    {
      "cell_type": "code",
      "execution_count": 10,
      "metadata": {
        "colab": {
          "base_uri": "https://localhost:8080/"
        },
        "id": "_0kZIeBSBztb",
        "outputId": "7aa29702-28e4-4d56-fd33-746104b692c3"
      },
      "outputs": [
        {
          "name": "stdout",
          "output_type": "stream",
          "text": [
            "Despacito\n"
          ]
        }
      ],
      "source": [
        "# Воспользуемся функцией idxmax и обратимся по найденному индексу в нужной колонке\n",
        "print(df.loc[df['Views'].idxmax()]['Track'])"
      ]
    },
    {
      "cell_type": "markdown",
      "metadata": {
        "collapsed": false,
        "id": "LpAekkktBztb"
      },
      "source": [
        "#### 6. У какой песни самый высокий балл за танцевальность (danceability )?"
      ]
    },
    {
      "cell_type": "code",
      "execution_count": 11,
      "metadata": {
        "colab": {
          "base_uri": "https://localhost:8080/"
        },
        "id": "i5shCNazBztc",
        "outputId": "9c6ef918-5281-4b42-815b-f8bb4f9a9a6d"
      },
      "outputs": [
        {
          "name": "stdout",
          "output_type": "stream",
          "text": [
            "Give It To Me\n"
          ]
        }
      ],
      "source": [
        "# Воспользуемся функцией idxmax и обратимся по найденному индексу в нужной колонке\n",
        "print(df.loc[df['Danceability'].idxmax()]['Track'])"
      ]
    },
    {
      "cell_type": "markdown",
      "metadata": {
        "collapsed": false,
        "id": "Gq532iKNBztc"
      },
      "source": [
        "#### 7. У какой песни самый высокий показатель энергии (energy score)?"
      ]
    },
    {
      "cell_type": "code",
      "execution_count": 12,
      "metadata": {
        "colab": {
          "base_uri": "https://localhost:8080/"
        },
        "id": "78mzUjsfBztc",
        "outputId": "a8ecc4b2-4953-4781-d3d7-23630aaa41bf"
      },
      "outputs": [
        {
          "name": "stdout",
          "output_type": "stream",
          "text": [
            "Rain and Thunderstorm, Pt. 3\n"
          ]
        }
      ],
      "source": [
        "# Воспользуемся функцией idxmax и обратимся по найденному индексу в нужной колонке\n",
        "print(df.loc[df['Energy'].idxmax()]['Track'])"
      ]
    },
    {
      "cell_type": "markdown",
      "metadata": {
        "collapsed": false,
        "id": "ckVjr8VxBztd"
      },
      "source": [
        "#### 8. Какая песня имеет наивысший балл valence (valence score)?"
      ]
    },
    {
      "cell_type": "code",
      "execution_count": 13,
      "metadata": {
        "colab": {
          "base_uri": "https://localhost:8080/"
        },
        "id": "jjPSsmYaBztd",
        "outputId": "5ecb9b87-d4ee-440e-a08e-e3d6d35009d9"
      },
      "outputs": [
        {
          "name": "stdout",
          "output_type": "stream",
          "text": [
            "Spider Dance\n"
          ]
        }
      ],
      "source": [
        "# Воспользуемся функцией idxmax и обратимся по найденному индексу в нужной колонке\n",
        "print(df.loc[df['Valence'].idxmax()]['Track'])"
      ]
    },
    {
      "cell_type": "markdown",
      "metadata": {
        "collapsed": false,
        "id": "lsVAAcXmBztd"
      },
      "source": [
        "#### 9. Будут ли песни с более высокой «valence» (музыкальной позитивностью) более популярны как на Spotify, так и на YouTube? Чтобы ответить на этот вопрос, подсчитайте среднюю оценку «valence» для песен в верхнем квартиле «Streams» и «Views» и сравните ее с общей средней «valence»."
      ]
    },
    {
      "cell_type": "code",
      "execution_count": 14,
      "metadata": {
        "colab": {
          "base_uri": "https://localhost:8080/"
        },
        "id": "N4jbuiIDBztd",
        "outputId": "58c6aaa4-cd46-4ac8-d3af-2ea60887b5fe"
      },
      "outputs": [
        {
          "name": "stdout",
          "output_type": "stream",
          "text": [
            "Песни с более высокой «valence» более популярны на Spotify? - False\n",
            "Песни с более высокой «valence» более популярны на YouTube? - True\n"
          ]
        }
      ],
      "source": [
        "# Создадит объект Series из столбца Valence при отсортированных данных по просмотру\n",
        "df_sort_Stream = df.sort_values(by=['Stream'], ascending= False).Valence\n",
        "df_sort_Views = df.sort_values(by=['Views'], ascending= False).Valence\n",
        "# Рассчитаем длину квартала\n",
        "len_quantile = int(len(df) / 4)\n",
        "# Найдем среднюю верхнего квартала\n",
        "df_sort_Stream.iloc[:len_quantile].mean()\n",
        "df_sort_Views.iloc[:len_quantile].mean()\n",
        "print(f'Песни с более высокой «valence» более популярны на Spotify? - {df_sort_Stream.iloc[:len_quantile].mean() > df.Valence.mean()}')\n",
        "print(f'Песни с более высокой «valence» более популярны на YouTube? - {df_sort_Views.iloc[:len_quantile].mean() > df.Valence.mean()}')"
      ]
    },
    {
      "cell_type": "markdown",
      "metadata": {
        "collapsed": false,
        "id": "O7YmenTeBzte"
      },
      "source": [
        "#### 10. Какой канал на YouTube имеет наибольшее количество просмотров?"
      ]
    },
    {
      "cell_type": "code",
      "execution_count": 15,
      "metadata": {
        "colab": {
          "base_uri": "https://localhost:8080/"
        },
        "id": "3i67O2bFBzte",
        "outputId": "8d895127-a475-4b86-aaf1-19d25a495684"
      },
      "outputs": [
        {
          "data": {
            "text/plain": [
              "Views    T-Series\n",
              "dtype: object"
            ]
          },
          "execution_count": 15,
          "metadata": {},
          "output_type": "execute_result"
        }
      ],
      "source": [
        "# Создадим агрегирующую функцию и прменим ее к сгуппированным по нужному признаку данным\n",
        "agg_fun = {'Views': 'sum'}\n",
        "\n",
        "(df\n",
        " .groupby(['Channel'])\n",
        " .agg(agg_fun)\n",
        " .idxmax()\n",
        ")"
      ]
    },
    {
      "cell_type": "markdown",
      "metadata": {
        "collapsed": false,
        "id": "EerOQ8SEBzte"
      },
      "source": [
        "#### 11. У песни какого исполнителя больше всего комментариев на YouTube?"
      ]
    },
    {
      "cell_type": "code",
      "execution_count": 16,
      "metadata": {
        "colab": {
          "base_uri": "https://localhost:8080/"
        },
        "id": "Pv8Jxc4TBztf",
        "outputId": "3384f295-287f-47a4-a06f-db708b9ec47d"
      },
      "outputs": [
        {
          "data": {
            "text/plain": [
              "Comments    Dynamite\n",
              "dtype: object"
            ]
          },
          "execution_count": 16,
          "metadata": {},
          "output_type": "execute_result"
        }
      ],
      "source": [
        "# Создадим агрегирующую функцию и прменим ее к сгуппированным по нужному признаку данным\n",
        "agg_fun = {'Comments': 'sum'}\n",
        "\n",
        "(df\n",
        " .groupby(['Track'])\n",
        " .agg(agg_fun)\n",
        " .idxmax()\n",
        ")"
      ]
    },
    {
      "cell_type": "markdown",
      "metadata": {
        "collapsed": false,
        "id": "8nzSjQIHBztf"
      },
      "source": [
        "#### 12. Какой самый распространенный темп (tempo) песен?"
      ]
    },
    {
      "cell_type": "code",
      "execution_count": 17,
      "metadata": {
        "colab": {
          "base_uri": "https://localhost:8080/"
        },
        "id": "wiaK2kDzBztf",
        "outputId": "331499b3-6246-4a50-d136-fb677e8985ae"
      },
      "outputs": [
        {
          "data": {
            "text/plain": [
              "120.0"
            ]
          },
          "execution_count": 17,
          "metadata": {},
          "output_type": "execute_result"
        }
      ],
      "source": [
        "#Я округлила десятков и нашла самое распространенное значение.\n",
        "#Не уверена, что правильно поняла задание\n",
        "df.Tempo.round(-1).mode()[0]"
      ]
    },
    {
      "cell_type": "markdown",
      "metadata": {
        "collapsed": false,
        "id": "BVaC9huvBztf"
      },
      "source": [
        "#### 13. Какая песня имеет самый высокий показатель по speechiness?"
      ]
    },
    {
      "cell_type": "code",
      "execution_count": 18,
      "metadata": {
        "colab": {
          "base_uri": "https://localhost:8080/",
          "height": 36
        },
        "id": "yfvNi5bgBztg",
        "outputId": "f5ec07b9-5816-48b3-ce90-e18227a6de23"
      },
      "outputs": [
        {
          "data": {
            "application/vnd.google.colaboratory.intrinsic+json": {
              "type": "string"
            },
            "text/plain": [
              "'Teil 7 - Sherlock Holmes und der blinde Bettler - Die neuen Abenteuer, Folge 50'"
            ]
          },
          "execution_count": 18,
          "metadata": {},
          "output_type": "execute_result"
        }
      ],
      "source": [
        "# Воспользуемся функцией idxmax и обратимся по найденному индексу в нужной колонке\n",
        "df.loc[df['Speechiness'].idxmax()]['Track']"
      ]
    },
    {
      "cell_type": "markdown",
      "metadata": {
        "collapsed": false,
        "id": "BxFTBgOhBztg"
      },
      "source": [
        "#### 14. Какая самая громкая песня в наборе данных?"
      ]
    },
    {
      "cell_type": "code",
      "execution_count": 19,
      "metadata": {
        "colab": {
          "base_uri": "https://localhost:8080/",
          "height": 36
        },
        "id": "uyh2peYBBztg",
        "outputId": "b9771875-3a16-4e19-9484-9115daed8bfa"
      },
      "outputs": [
        {
          "data": {
            "application/vnd.google.colaboratory.intrinsic+json": {
              "type": "string"
            },
            "text/plain": [
              "'Siren'"
            ]
          },
          "execution_count": 19,
          "metadata": {},
          "output_type": "execute_result"
        }
      ],
      "source": [
        "# Воспользуемся функцией idxmax и обратимся по найденному индексу в нужной колонке\n",
        "df.loc[df['Loudness'].idxmax()]['Track']"
      ]
    },
    {
      "cell_type": "markdown",
      "metadata": {
        "collapsed": false,
        "id": "G_aMFAytBzth"
      },
      "source": [
        "#### 15. У какого артиста самый высокий средний балл danceability?"
      ]
    },
    {
      "cell_type": "code",
      "execution_count": 20,
      "metadata": {
        "colab": {
          "base_uri": "https://localhost:8080/"
        },
        "id": "cNRNyHXaBzth",
        "outputId": "5e12e824-f815-4f09-e2dc-bae678a6b576"
      },
      "outputs": [
        {
          "data": {
            "text/plain": [
              "Danceability    Saweetie\n",
              "dtype: object"
            ]
          },
          "execution_count": 20,
          "metadata": {},
          "output_type": "execute_result"
        }
      ],
      "source": [
        "# Создадим агрегирующую функцию и прменим ее к сгуппированным по нужному признаку данным\n",
        "agg_fun = {'Danceability': 'mean'}\n",
        "\n",
        "(df\n",
        " .groupby(['Artist'])\n",
        " .agg(agg_fun)\n",
        " .idxmax()\n",
        ")"
      ]
    },
    {
      "cell_type": "markdown",
      "metadata": {
        "collapsed": false,
        "id": "S8kWq1heBzth"
      },
      "source": [
        "#### 16. Как средний показатель «speechiness» песен зависит от «Album_type»? Песни, выпущенные как синглы, чаще содержат больше слов согласно анализу?"
      ]
    },
    {
      "cell_type": "code",
      "execution_count": 21,
      "metadata": {
        "colab": {
          "base_uri": "https://localhost:8080/",
          "height": 175
        },
        "id": "42DD61I5Bzth",
        "outputId": "baea0716-a00c-41b8-eebe-fe179004dc59"
      },
      "outputs": [
        {
          "data": {
            "text/html": [
              "\n",
              "  <div id=\"df-9436e28e-8709-4268-a6e3-0615dbeffef3\">\n",
              "    <div class=\"colab-df-container\">\n",
              "      <div>\n",
              "<style scoped>\n",
              "    .dataframe tbody tr th:only-of-type {\n",
              "        vertical-align: middle;\n",
              "    }\n",
              "\n",
              "    .dataframe tbody tr th {\n",
              "        vertical-align: top;\n",
              "    }\n",
              "\n",
              "    .dataframe thead th {\n",
              "        text-align: right;\n",
              "    }\n",
              "</style>\n",
              "<table border=\"1\" class=\"dataframe\">\n",
              "  <thead>\n",
              "    <tr style=\"text-align: right;\">\n",
              "      <th></th>\n",
              "      <th>Speechiness</th>\n",
              "    </tr>\n",
              "    <tr>\n",
              "      <th>Album_type</th>\n",
              "      <th></th>\n",
              "    </tr>\n",
              "  </thead>\n",
              "  <tbody>\n",
              "    <tr>\n",
              "      <th>single</th>\n",
              "      <td>0.103867</td>\n",
              "    </tr>\n",
              "    <tr>\n",
              "      <th>album</th>\n",
              "      <td>0.094900</td>\n",
              "    </tr>\n",
              "    <tr>\n",
              "      <th>compilation</th>\n",
              "      <td>0.078867</td>\n",
              "    </tr>\n",
              "  </tbody>\n",
              "</table>\n",
              "</div>\n",
              "      <button class=\"colab-df-convert\" onclick=\"convertToInteractive('df-9436e28e-8709-4268-a6e3-0615dbeffef3')\"\n",
              "              title=\"Convert this dataframe to an interactive table.\"\n",
              "              style=\"display:none;\">\n",
              "        \n",
              "  <svg xmlns=\"http://www.w3.org/2000/svg\" height=\"24px\"viewBox=\"0 0 24 24\"\n",
              "       width=\"24px\">\n",
              "    <path d=\"M0 0h24v24H0V0z\" fill=\"none\"/>\n",
              "    <path d=\"M18.56 5.44l.94 2.06.94-2.06 2.06-.94-2.06-.94-.94-2.06-.94 2.06-2.06.94zm-11 1L8.5 8.5l.94-2.06 2.06-.94-2.06-.94L8.5 2.5l-.94 2.06-2.06.94zm10 10l.94 2.06.94-2.06 2.06-.94-2.06-.94-.94-2.06-.94 2.06-2.06.94z\"/><path d=\"M17.41 7.96l-1.37-1.37c-.4-.4-.92-.59-1.43-.59-.52 0-1.04.2-1.43.59L10.3 9.45l-7.72 7.72c-.78.78-.78 2.05 0 2.83L4 21.41c.39.39.9.59 1.41.59.51 0 1.02-.2 1.41-.59l7.78-7.78 2.81-2.81c.8-.78.8-2.07 0-2.86zM5.41 20L4 18.59l7.72-7.72 1.47 1.35L5.41 20z\"/>\n",
              "  </svg>\n",
              "      </button>\n",
              "      \n",
              "  <style>\n",
              "    .colab-df-container {\n",
              "      display:flex;\n",
              "      flex-wrap:wrap;\n",
              "      gap: 12px;\n",
              "    }\n",
              "\n",
              "    .colab-df-convert {\n",
              "      background-color: #E8F0FE;\n",
              "      border: none;\n",
              "      border-radius: 50%;\n",
              "      cursor: pointer;\n",
              "      display: none;\n",
              "      fill: #1967D2;\n",
              "      height: 32px;\n",
              "      padding: 0 0 0 0;\n",
              "      width: 32px;\n",
              "    }\n",
              "\n",
              "    .colab-df-convert:hover {\n",
              "      background-color: #E2EBFA;\n",
              "      box-shadow: 0px 1px 2px rgba(60, 64, 67, 0.3), 0px 1px 3px 1px rgba(60, 64, 67, 0.15);\n",
              "      fill: #174EA6;\n",
              "    }\n",
              "\n",
              "    [theme=dark] .colab-df-convert {\n",
              "      background-color: #3B4455;\n",
              "      fill: #D2E3FC;\n",
              "    }\n",
              "\n",
              "    [theme=dark] .colab-df-convert:hover {\n",
              "      background-color: #434B5C;\n",
              "      box-shadow: 0px 1px 3px 1px rgba(0, 0, 0, 0.15);\n",
              "      filter: drop-shadow(0px 1px 2px rgba(0, 0, 0, 0.3));\n",
              "      fill: #FFFFFF;\n",
              "    }\n",
              "  </style>\n",
              "\n",
              "      <script>\n",
              "        const buttonEl =\n",
              "          document.querySelector('#df-9436e28e-8709-4268-a6e3-0615dbeffef3 button.colab-df-convert');\n",
              "        buttonEl.style.display =\n",
              "          google.colab.kernel.accessAllowed ? 'block' : 'none';\n",
              "\n",
              "        async function convertToInteractive(key) {\n",
              "          const element = document.querySelector('#df-9436e28e-8709-4268-a6e3-0615dbeffef3');\n",
              "          const dataTable =\n",
              "            await google.colab.kernel.invokeFunction('convertToInteractive',\n",
              "                                                     [key], {});\n",
              "          if (!dataTable) return;\n",
              "\n",
              "          const docLinkHtml = 'Like what you see? Visit the ' +\n",
              "            '<a target=\"_blank\" href=https://colab.research.google.com/notebooks/data_table.ipynb>data table notebook</a>'\n",
              "            + ' to learn more about interactive tables.';\n",
              "          element.innerHTML = '';\n",
              "          dataTable['output_type'] = 'display_data';\n",
              "          await google.colab.output.renderOutput(dataTable, element);\n",
              "          const docLink = document.createElement('div');\n",
              "          docLink.innerHTML = docLinkHtml;\n",
              "          element.appendChild(docLink);\n",
              "        }\n",
              "      </script>\n",
              "    </div>\n",
              "  </div>\n",
              "  "
            ],
            "text/plain": [
              "             Speechiness\n",
              "Album_type              \n",
              "single          0.103867\n",
              "album           0.094900\n",
              "compilation     0.078867"
            ]
          },
          "execution_count": 21,
          "metadata": {},
          "output_type": "execute_result"
        }
      ],
      "source": [
        "# Создадим агрегирующую функцию и прменим ее к сгуппированным по нужному признаку данным\n",
        "agg_fun = {'Speechiness': 'mean'}\n",
        "\n",
        "(df\n",
        " .groupby(['Album_type'])\n",
        " .agg(agg_fun)\n",
        "  .sort_values(by = ['Speechiness'],ascending = False)\n",
        ")\n",
        "#Согласно данным в таблице песни, выпущенные как синглы, действительно чаще содержат больше слов."
      ]
    },
    {
      "cell_type": "markdown",
      "metadata": {
        "collapsed": false,
        "id": "ONogL7mTBzti"
      },
      "source": [
        "#### 17. Каково среднее количество прослушиваний песен, которые входят в топ 10% лучших по метрике танцевальности?"
      ]
    },
    {
      "cell_type": "code",
      "execution_count": 23,
      "metadata": {
        "colab": {
          "base_uri": "https://localhost:8080/"
        },
        "id": "DaVN6fmEBzt4",
        "outputId": "02e8f372-7c7b-49b9-e7c0-6d6a2726b668"
      },
      "outputs": [
        {
          "name": "stdout",
          "output_type": "stream",
          "text": [
            "151903593\n"
          ]
        }
      ],
      "source": [
        "# Создадит объект Series из столбца Stream при отсортированных данных по Danceability\n",
        "sort_Danc = df.sort_values(by=['Danceability'], ascending= False).Stream\n",
        "# Рассчитаем длину 10% данных\n",
        "len_10 = int(len(df) / 10)\n",
        "# Найдем среднюю верхних 10%\n",
        "print(round(sort_Danc.iloc[:len_10].mean()))"
      ]
    },
    {
      "cell_type": "markdown",
      "metadata": {
        "collapsed": false,
        "id": "ve77D5PvBzt5"
      },
      "source": [
        "#### 18. Для песен, которые входят в топ 10% лучших с точки зрения «danceability» метрики, как соотносится их средний показатель «tempo» со средним показателем «tempo» всех песен?"
      ]
    },
    {
      "cell_type": "code",
      "execution_count": 24,
      "metadata": {
        "colab": {
          "base_uri": "https://localhost:8080/"
        },
        "id": "bdQfzu2cBzt5",
        "outputId": "b2490741-f816-478a-fa66-b36778bc458e"
      },
      "outputs": [
        {
          "name": "stdout",
          "output_type": "stream",
          "text": [
            "Показатель «tempo» топ 10% танцевальных песен ниже среднего «tempo» всех песен.\n"
          ]
        }
      ],
      "source": [
        "# Создадит объект Series из столбца Tempo при отсортированных данных по Danceability\n",
        "sort_Danc = df.sort_values(by=['Danceability'], ascending= False).Tempo\n",
        "# Рассчитаем длину 10% данных\n",
        "len_10 = int(len(df) / 10)\n",
        "# Сравним со средней по всей выборке\n",
        "if sort_Danc.iloc[:len_10].mean() > df.Tempo.mean():\n",
        "    print('Показатель «tempo» топ 10% танцевальных песен выше среднего «tempo» всех песен.')\n",
        "else:\n",
        "     print('Показатель «tempo» топ 10% танцевальных песен ниже среднего «tempo» всех песен.')   "
      ]
    },
    {
      "cell_type": "markdown",
      "metadata": {
        "collapsed": false,
        "id": "soD99UvcBzt6"
      },
      "source": [
        "#### 19. Какова корреляция между «valence» метрикой песни и ее популярностью на YouTube (по показателю «Views») и Spotify (по показателю «Stream»)? Счастливые песни более популярны? Valency отвечает за жизнерадостность песни."
      ]
    },
    {
      "cell_type": "code",
      "execution_count": 25,
      "metadata": {
        "colab": {
          "base_uri": "https://localhost:8080/"
        },
        "id": "qTyP0u-5Bzt6",
        "outputId": "a20a5332-92be-4995-8ccd-02c1bd034931"
      },
      "outputs": [
        {
          "name": "stdout",
          "output_type": "stream",
          "text": [
            "Корреляция между «Valence» песни и ее просмотрам на YouTube: 0.04\n",
            "Корреляция между «Valence» песни и ее прослушиванию в Spotify : -0.01\n"
          ]
        }
      ],
      "source": [
        "corr_Valence_Views = round(df['Valence'].corr(df['Views']),2)\n",
        "corr_Valence_Stream = round(df['Valence'].corr(df['Stream']),2)\n",
        "print(f'Корреляция между «Valence» песни и ее просмотрам на YouTube: {corr_Valence_Views}')\n",
        "print(f'Корреляция между «Valence» песни и ее прослушиванию в Spotify : {corr_Valence_Stream }')\n",
        "#Корреляция отсутствует"
      ]
    },
    {
      "cell_type": "markdown",
      "metadata": {
        "collapsed": false,
        "id": "g15ME7f4Bzt6"
      },
      "source": [
        "#### 20. Какова средняя громкость песен, которые входят в топ 10% лучших по энергетике (Energy)?"
      ]
    },
    {
      "cell_type": "code",
      "execution_count": 29,
      "metadata": {
        "colab": {
          "base_uri": "https://localhost:8080/"
        },
        "id": "LEezo_PVBzt7",
        "outputId": "0739a370-2c54-47a7-a775-e96059878ab4"
      },
      "outputs": [
        {
          "name": "stdout",
          "output_type": "stream",
          "text": [
            "-4.63\n"
          ]
        }
      ],
      "source": [
        "# Создадит объект Series из столбца Loudness при отсортированных данных по Energy\n",
        "sort_Energy = df.sort_values(by=['Energy'], ascending= False).Loudness\n",
        "# Рассчитаем длину 10% данных\n",
        "len_10 = int(len(df) / 10)\n",
        "#Найдем среднее значение\n",
        "print(round(sort_Energy.iloc[:len_10].mean(),2))"
      ]
    },
    {
      "cell_type": "markdown",
      "metadata": {
        "collapsed": false,
        "id": "-7ICAPg9Bzt7"
      },
      "source": [
        "#### 21. У какого исполнителя больше всего песен, которые входят в топ-10% как по просмотрам на YouTube, так и по стримам Spotify?"
      ]
    },
    {
      "cell_type": "code",
      "execution_count": 30,
      "metadata": {
        "colab": {
          "base_uri": "https://localhost:8080/"
        },
        "id": "e9S5nvxFBzt7",
        "outputId": "bb4568ca-db96-4def-ac67-3bb4dbf22ba1"
      },
      "outputs": [
        {
          "name": "stdout",
          "output_type": "stream",
          "text": [
            "*NSYNC\n"
          ]
        }
      ],
      "source": [
        "# Создадит объекты Series из столбца Artist при отсортированных данных по популярности\n",
        "sort_Views = df.sort_values(by=['Views'], ascending= False).Artist\n",
        "sort_Stream = df.sort_values(by=['Stream'], ascending= False).Artist\n",
        "# Рассчитаем длину 10% данных\n",
        "len_10 = int(len(df) / 10)\n",
        "# Создадим датафрейм из пересечения множеств исполнителей, которые входят в топ-10% как по просмотрам на YouTube, так и по стримам Spotify\n",
        "Artist_series = pd.DataFrame(set(sort_Stream.iloc[:len_10]) & set(sort_Views.iloc[:len_10]),columns=['Artist'])\n",
        "#Найдем моду в полученном датафрейме\n",
        "print(Artist_series.Artist.mode()[0])"
      ]
    },
    {
      "cell_type": "markdown",
      "metadata": {
        "collapsed": false,
        "id": "MwCoBH7lBzt8"
      },
      "source": [
        "#### 22. Какова корреляция между «energy» песни и ее «loudness»?"
      ]
    },
    {
      "cell_type": "code",
      "execution_count": 31,
      "metadata": {
        "colab": {
          "base_uri": "https://localhost:8080/"
        },
        "id": "R6XA8lubBzt8",
        "outputId": "5b278ab0-1df4-4c20-ad18-5f453f65441b"
      },
      "outputs": [
        {
          "name": "stdout",
          "output_type": "stream",
          "text": [
            "Корреляция между «energy» песни и ее «loudness»: 0.74\n"
          ]
        }
      ],
      "source": [
        "corr = round(df['Energy'].corr(df['Loudness']),2)\n",
        "print(f'Корреляция между «energy» песни и ее «loudness»: {corr}')\n",
        "#Корреляция сильная"
      ]
    },
    {
      "cell_type": "markdown",
      "metadata": {
        "collapsed": false,
        "id": "GgAPk2PGBzt9"
      },
      "source": [
        "#### 23. Каково среднее количество лайков на YouTube для песен, которые находятся в верхнем квартиле (25%) и как это соотносится с общим средним показателем?"
      ]
    },
    {
      "cell_type": "code",
      "execution_count": 32,
      "metadata": {
        "colab": {
          "base_uri": "https://localhost:8080/"
        },
        "id": "TBJvRXBXBzt9",
        "outputId": "c0f761f4-4cfa-47ea-8484-d88f93ac09b3"
      },
      "outputs": [
        {
          "name": "stdout",
          "output_type": "stream",
          "text": [
            "Kоличество лайков на YouTube для песен топ 25% выше среднего показателя.\n"
          ]
        }
      ],
      "source": [
        "df_sort_Views = df.sort_values(by=['Views'], ascending= False).Likes\n",
        "len_quartile = int(len(df) / 4)\n",
        "if df_sort_Views.iloc[:len_quartile].mean() > df.Likes.mean():\n",
        "    print('Kоличество лайков на YouTube для песен топ 25% выше среднего показателя.')\n",
        "else:\n",
        "     print('Kоличество лайков на YouTube для песен топ 25% выше среднего показателя.')  "
      ]
    },
    {
      "cell_type": "markdown",
      "metadata": {
        "collapsed": false,
        "id": "D1eynBL-Bzt9"
      },
      "source": [
        "#### 24. Есть ли существенная разница в средней «valence» метрикой для песен, выпущенных как синглы, по сравнению с песнями, выпущенными в виде альбома?"
      ]
    },
    {
      "cell_type": "code",
      "execution_count": 33,
      "metadata": {
        "colab": {
          "base_uri": "https://localhost:8080/",
          "height": 175
        },
        "id": "ZdPzqVjaBzt-",
        "outputId": "7e5a4b43-a4c6-47e9-a9d9-c9b0cd96527e"
      },
      "outputs": [
        {
          "data": {
            "text/html": [
              "\n",
              "  <div id=\"df-4b4015c3-aab9-4b3d-a77f-737c6106678e\">\n",
              "    <div class=\"colab-df-container\">\n",
              "      <div>\n",
              "<style scoped>\n",
              "    .dataframe tbody tr th:only-of-type {\n",
              "        vertical-align: middle;\n",
              "    }\n",
              "\n",
              "    .dataframe tbody tr th {\n",
              "        vertical-align: top;\n",
              "    }\n",
              "\n",
              "    .dataframe thead th {\n",
              "        text-align: right;\n",
              "    }\n",
              "</style>\n",
              "<table border=\"1\" class=\"dataframe\">\n",
              "  <thead>\n",
              "    <tr style=\"text-align: right;\">\n",
              "      <th></th>\n",
              "      <th>Valence</th>\n",
              "    </tr>\n",
              "    <tr>\n",
              "      <th>Album_type</th>\n",
              "      <th></th>\n",
              "    </tr>\n",
              "  </thead>\n",
              "  <tbody>\n",
              "    <tr>\n",
              "      <th>album</th>\n",
              "      <td>0.529771</td>\n",
              "    </tr>\n",
              "    <tr>\n",
              "      <th>compilation</th>\n",
              "      <td>0.529679</td>\n",
              "    </tr>\n",
              "    <tr>\n",
              "      <th>single</th>\n",
              "      <td>0.530126</td>\n",
              "    </tr>\n",
              "  </tbody>\n",
              "</table>\n",
              "</div>\n",
              "      <button class=\"colab-df-convert\" onclick=\"convertToInteractive('df-4b4015c3-aab9-4b3d-a77f-737c6106678e')\"\n",
              "              title=\"Convert this dataframe to an interactive table.\"\n",
              "              style=\"display:none;\">\n",
              "        \n",
              "  <svg xmlns=\"http://www.w3.org/2000/svg\" height=\"24px\"viewBox=\"0 0 24 24\"\n",
              "       width=\"24px\">\n",
              "    <path d=\"M0 0h24v24H0V0z\" fill=\"none\"/>\n",
              "    <path d=\"M18.56 5.44l.94 2.06.94-2.06 2.06-.94-2.06-.94-.94-2.06-.94 2.06-2.06.94zm-11 1L8.5 8.5l.94-2.06 2.06-.94-2.06-.94L8.5 2.5l-.94 2.06-2.06.94zm10 10l.94 2.06.94-2.06 2.06-.94-2.06-.94-.94-2.06-.94 2.06-2.06.94z\"/><path d=\"M17.41 7.96l-1.37-1.37c-.4-.4-.92-.59-1.43-.59-.52 0-1.04.2-1.43.59L10.3 9.45l-7.72 7.72c-.78.78-.78 2.05 0 2.83L4 21.41c.39.39.9.59 1.41.59.51 0 1.02-.2 1.41-.59l7.78-7.78 2.81-2.81c.8-.78.8-2.07 0-2.86zM5.41 20L4 18.59l7.72-7.72 1.47 1.35L5.41 20z\"/>\n",
              "  </svg>\n",
              "      </button>\n",
              "      \n",
              "  <style>\n",
              "    .colab-df-container {\n",
              "      display:flex;\n",
              "      flex-wrap:wrap;\n",
              "      gap: 12px;\n",
              "    }\n",
              "\n",
              "    .colab-df-convert {\n",
              "      background-color: #E8F0FE;\n",
              "      border: none;\n",
              "      border-radius: 50%;\n",
              "      cursor: pointer;\n",
              "      display: none;\n",
              "      fill: #1967D2;\n",
              "      height: 32px;\n",
              "      padding: 0 0 0 0;\n",
              "      width: 32px;\n",
              "    }\n",
              "\n",
              "    .colab-df-convert:hover {\n",
              "      background-color: #E2EBFA;\n",
              "      box-shadow: 0px 1px 2px rgba(60, 64, 67, 0.3), 0px 1px 3px 1px rgba(60, 64, 67, 0.15);\n",
              "      fill: #174EA6;\n",
              "    }\n",
              "\n",
              "    [theme=dark] .colab-df-convert {\n",
              "      background-color: #3B4455;\n",
              "      fill: #D2E3FC;\n",
              "    }\n",
              "\n",
              "    [theme=dark] .colab-df-convert:hover {\n",
              "      background-color: #434B5C;\n",
              "      box-shadow: 0px 1px 3px 1px rgba(0, 0, 0, 0.15);\n",
              "      filter: drop-shadow(0px 1px 2px rgba(0, 0, 0, 0.3));\n",
              "      fill: #FFFFFF;\n",
              "    }\n",
              "  </style>\n",
              "\n",
              "      <script>\n",
              "        const buttonEl =\n",
              "          document.querySelector('#df-4b4015c3-aab9-4b3d-a77f-737c6106678e button.colab-df-convert');\n",
              "        buttonEl.style.display =\n",
              "          google.colab.kernel.accessAllowed ? 'block' : 'none';\n",
              "\n",
              "        async function convertToInteractive(key) {\n",
              "          const element = document.querySelector('#df-4b4015c3-aab9-4b3d-a77f-737c6106678e');\n",
              "          const dataTable =\n",
              "            await google.colab.kernel.invokeFunction('convertToInteractive',\n",
              "                                                     [key], {});\n",
              "          if (!dataTable) return;\n",
              "\n",
              "          const docLinkHtml = 'Like what you see? Visit the ' +\n",
              "            '<a target=\"_blank\" href=https://colab.research.google.com/notebooks/data_table.ipynb>data table notebook</a>'\n",
              "            + ' to learn more about interactive tables.';\n",
              "          element.innerHTML = '';\n",
              "          dataTable['output_type'] = 'display_data';\n",
              "          await google.colab.output.renderOutput(dataTable, element);\n",
              "          const docLink = document.createElement('div');\n",
              "          docLink.innerHTML = docLinkHtml;\n",
              "          element.appendChild(docLink);\n",
              "        }\n",
              "      </script>\n",
              "    </div>\n",
              "  </div>\n",
              "  "
            ],
            "text/plain": [
              "              Valence\n",
              "Album_type           \n",
              "album        0.529771\n",
              "compilation  0.529679\n",
              "single       0.530126"
            ]
          },
          "execution_count": 33,
          "metadata": {},
          "output_type": "execute_result"
        }
      ],
      "source": [
        "# Создадим таблицу для визуального анализа разницы\n",
        "agg_fun = {'Valence': 'mean'}\n",
        "\n",
        "(df\n",
        " .groupby(['Album_type'])\n",
        " .agg(agg_fun)\n",
        ")\n",
        "#Как видно, разница почти отсутствует"
      ]
    },
    {
      "cell_type": "markdown",
      "metadata": {
        "collapsed": false,
        "id": "54CU6ub2Bzt-"
      },
      "source": [
        "#### 25. Каково среднее количество «комментариев» на YouTube для песен с показателем «speechiness» выше 0,66 (что указывает на большое количество произнесенных слов) и как это соотносится с общим средним показателем?"
      ]
    },
    {
      "cell_type": "code",
      "execution_count": 36,
      "metadata": {
        "colab": {
          "base_uri": "https://localhost:8080/"
        },
        "id": "YrrtO_dOBzt_",
        "outputId": "54c7e0ba-8223-4d98-9fb2-853e326a7762"
      },
      "outputs": [
        {
          "name": "stdout",
          "output_type": "stream",
          "text": [
            "Kоличество комментариев» для песен с высоким показателем «speechiness» ниже среднего значения.\n"
          ]
        }
      ],
      "source": [
        "# Создадим фильтрацию по значению Speechiness и посчитаем среднюю\n",
        "df.Comments[df['Speechiness'] > 0.66].mean()\n",
        "# Сравним со среднм значением\n",
        "if df.Comments[df['Speechiness'] > 0.66].mean() > df.Comments.mean():\n",
        "    print('Kоличество комментариев» для песен с высоким показателем «speechiness» выше среднего значения.')\n",
        "else:\n",
        "     print('Kоличество комментариев» для песен с высоким показателем «speechiness» ниже среднего значения.')"
      ]
    }
  ],
  "metadata": {
    "colab": {
      "provenance": []
    },
    "kernelspec": {
      "display_name": "Python 3",
      "language": "python",
      "name": "python3"
    },
    "language_info": {
      "codemirror_mode": {
        "name": "ipython",
        "version": 3
      },
      "file_extension": ".py",
      "mimetype": "text/x-python",
      "name": "python",
      "nbconvert_exporter": "python",
      "pygments_lexer": "ipython3",
      "version": "3.9.13"
    }
  },
  "nbformat": 4,
  "nbformat_minor": 0
}
